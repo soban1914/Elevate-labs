# --- Step 1: Import libraries ---
import pandas as pd
import matplotlib.pyplot as plt

# --- Step 2: Load the CSV ---
df = pd.read_csv("sales_data.csv")

# --- Step 3: Basic data info ---
print("First 5 rows:\n", df.head())
print("\nShape of data:", df.shape)
print("\nColumn names:", df.columns.tolist())
print("\nNull values:\n", df.isnull().sum())

# --- Step 4: Total sales per product ---
sales_by_product = df.groupby("Product")["Sales"].sum()
print("\nSales by Product:\n", sales_by_product)

# Bar chart for sales by product
sales_by_product.plot(kind="bar", color="skyblue")
plt.title("Total Sales by Product")
plt.xlabel("Product")
plt.ylabel("Total Sales")
plt.show()

# --- Step 5: Total sales per region ---
sales_by_region = df.groupby("Region")["Sales"].sum()
print("\nSales by Region:\n", sales_by_region)

# Pie chart for sales by region
sales_by_region.plot(kind="pie", autopct="%1.1f%%")
plt.title("Sales Distribution by Region")
plt.ylabel("")
plt.show()

# --- Step 6: Sales trend over time ---
df["Date"] = pd.to_datetime(df["Date"])
sales_over_time = df.groupby("Date")["Sales"].sum()

sales_over_time.plot(kind="line", marker="o")
plt.title("Sales Over Time")
plt.xlabel("Date")
plt.ylabel("Sales")
plt.grid(True)
plt.show()
